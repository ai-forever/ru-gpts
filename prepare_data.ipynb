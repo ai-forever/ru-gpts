{
 "metadata": {
  "language_info": {
   "codemirror_mode": {
    "name": "ipython",
    "version": 3
   },
   "file_extension": ".py",
   "mimetype": "text/x-python",
   "name": "python",
   "nbconvert_exporter": "python",
   "pygments_lexer": "ipython3",
   "version": "3.6.11-final"
  },
  "orig_nbformat": 2,
  "kernelspec": {
   "name": "Python 3.6.11 64-bit ('rugpt': conda)",
   "display_name": "Python 3.6.11 64-bit ('rugpt': conda)",
   "metadata": {
    "interpreter": {
     "hash": "b5deb69299e72b4c1f8359a6e9c7a994a85d335c063da042ceb38c2473c9a8bd"
    }
   }
  }
 },
 "nbformat": 4,
 "nbformat_minor": 2,
 "cells": [
  {
   "cell_type": "code",
   "execution_count": 23,
   "metadata": {},
   "outputs": [],
   "source": [
    "from fastai.basics import *"
   ]
  },
  {
   "cell_type": "code",
   "execution_count": 24,
   "metadata": {},
   "outputs": [],
   "source": [
    "txts = get_files('/home/u/gpt_text', '.txt')"
   ]
  },
  {
   "cell_type": "code",
   "execution_count": 25,
   "metadata": {},
   "outputs": [],
   "source": [
    "for file in txts:\n",
    "    with open(file, 'r') as f:\n",
    "        lines = f.read()\n",
    "    fn = str(file.name).replace('.txt','.json')\n",
    "    with open(f'/home/u/gpt_json/{fn}', 'w') as c:\n",
    "        json.dump({\"text\": lines}, c, ensure_ascii=False)"
   ]
  }
 ]
}