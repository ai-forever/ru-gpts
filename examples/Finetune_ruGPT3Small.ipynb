{
  "nbformat": 4,
  "nbformat_minor": 0,
  "metadata": {
    "colab": {
      "name": "Finetune ruGPT3Small.ipynb",
      "provenance": [],
      "collapsed_sections": []
    },
    "kernelspec": {
      "name": "python3",
      "display_name": "Python 3"
    },
    "accelerator": "GPU"
  },
  "cells": [
    {
      "cell_type": "markdown",
      "metadata": {
        "id": "3RHDK81QqrET"
      },
      "source": [
        "# Finetune ruGPT3Small on essays"
      ]
    },
    {
      "cell_type": "markdown",
      "metadata": {
        "id": "eK10D3MSpYty"
      },
      "source": [
        "## Install enviroment"
      ]
    },
    {
      "cell_type": "code",
      "metadata": {
        "id": "asqMueYPeIgK"
      },
      "source": [
        "!pip3 install urllib3==1.25.4"
      ],
      "execution_count": null,
      "outputs": []
    },
    {
      "cell_type": "code",
      "metadata": {
        "id": "yPqtVgbkeTx7"
      },
      "source": [
        "!pip3 install transformers==2.8.0"
      ],
      "execution_count": null,
      "outputs": []
    },
    {
      "cell_type": "code",
      "metadata": {
        "id": "mpkjTWefecLc"
      },
      "source": [
        "!wget https://raw.githubusercontent.com/sberbank-ai/ru-gpts/master/pretrain_transformers.py"
      ],
      "execution_count": null,
      "outputs": []
    },
    {
      "cell_type": "code",
      "metadata": {
        "id": "L7zu3BqpqJQ7"
      },
      "source": [
        "!wget https://raw.githubusercontent.com/sberbank-ai/ru-gpts/master/generate_transformers.py"
      ],
      "execution_count": null,
      "outputs": []
    },
    {
      "cell_type": "code",
      "metadata": {
        "id": "QlJB3Ln7gjO9",
        "outputId": "8d5e0341-1a83-47f3-8e7d-c7a4f4ac4a69",
        "colab": {
          "base_uri": "https://localhost:8080/"
        }
      },
      "source": [
        "%%writefile setup.sh\n",
        "\n",
        "export CUDA_HOME=/usr/local/cuda-10.1\n",
        "git clone https://github.com/NVIDIA/apex\n",
        "pip install -v --no-cache-dir --global-option=\"--cpp_ext\" --global-option=\"--cuda_ext\" ./apex"
      ],
      "execution_count": 5,
      "outputs": [
        {
          "output_type": "stream",
          "text": [
            "Writing setup.sh\n"
          ],
          "name": "stdout"
        }
      ]
    },
    {
      "cell_type": "code",
      "metadata": {
        "id": "zAZqpSEJglUl"
      },
      "source": [
        "!sh setup.sh"
      ],
      "execution_count": null,
      "outputs": []
    },
    {
      "cell_type": "markdown",
      "metadata": {
        "id": "DP7YAlDPqknI"
      },
      "source": [
        "## Add data to colab\n",
        "Add essays file from google dirve:\n",
        "* Add [file](https://drive.google.com/file/d/10ZsjTeaoihYA80n1G40O5YZmaGw0yOXk/view?usp=sharing) to your own drive\n",
        "* And mount drive to colab"
      ]
    },
    {
      "cell_type": "code",
      "metadata": {
        "id": "jTN7lA4BqbRz",
        "outputId": "94b7851d-8fff-47b0-9c78-aff0f32aa29e",
        "colab": {
          "base_uri": "https://localhost:8080/"
        }
      },
      "source": [
        "from google.colab import drive\n",
        "drive.mount('/content/drive')"
      ],
      "execution_count": 7,
      "outputs": [
        {
          "output_type": "stream",
          "text": [
            "Mounted at /content/drive\n"
          ],
          "name": "stdout"
        }
      ]
    },
    {
      "cell_type": "code",
      "metadata": {
        "id": "f5EtK-jerBRv",
        "outputId": "3e9d1e07-b46e-4a89-9540-d7af8d99dc20",
        "colab": {
          "base_uri": "https://localhost:8080/"
        }
      },
      "source": [
        "data_path = \"drive/My Drive/essays.txt\"\n",
        "!ls \"$data_path\""
      ],
      "execution_count": 8,
      "outputs": [
        {
          "output_type": "stream",
          "text": [
            "'drive/My Drive/essays.txt'\n"
          ],
          "name": "stdout"
        }
      ]
    },
    {
      "cell_type": "markdown",
      "metadata": {
        "id": "GDYi1TVTrtkO"
      },
      "source": [
        "## Prepare data"
      ]
    },
    {
      "cell_type": "code",
      "metadata": {
        "id": "OXdNbrq3rgzq"
      },
      "source": [
        "with open(data_path, \"r\") as file:\n",
        "    text = file.read()"
      ],
      "execution_count": 9,
      "outputs": []
    },
    {
      "cell_type": "code",
      "metadata": {
        "id": "_sgqpozwryu_"
      },
      "source": [
        "valid_size = 5"
      ],
      "execution_count": 10,
      "outputs": []
    },
    {
      "cell_type": "code",
      "metadata": {
        "id": "Z5XsmNzor0pK"
      },
      "source": [
        "topics = []\n",
        "all_essays = []\n",
        "for line in text.split(\"</s>\"):\n",
        "    if \"Тема:\" in line and \"Сочинение:\" in line:\n",
        "        essay_text = line.split(\"Сочинение:\")\n",
        "        if len(essay_text) == 2:\n",
        "            topic = essay_text[0].replace(\"<s>\", \" \").replace(\"</s>\", \" \").strip()\n",
        "            essay_text = essay_text[1].replace(\"<s>\", \" \").replace(\"</s>\", \" \").strip()\n",
        "            essay_text = f\"Сочинение: {essay_text}\"\n",
        "            essay_res = f\"<s>{topic}\\n{essay_text}</s>\"\n",
        "            all_essays.append(essay_res)\n",
        "            topics.append(topic)"
      ],
      "execution_count": 11,
      "outputs": []
    },
    {
      "cell_type": "code",
      "metadata": {
        "id": "Izc0lkkHr2Rz"
      },
      "source": [
        "import numpy as np\n",
        "import random"
      ],
      "execution_count": 12,
      "outputs": []
    },
    {
      "cell_type": "code",
      "metadata": {
        "id": "3tkc1_49r36X"
      },
      "source": [
        "random.seed(1234)\n",
        "np.random.seed(1234)"
      ],
      "execution_count": 13,
      "outputs": []
    },
    {
      "cell_type": "code",
      "metadata": {
        "id": "1EHAdpt5r5B9"
      },
      "source": [
        "unique_topics = list(set(topics))"
      ],
      "execution_count": 14,
      "outputs": []
    },
    {
      "cell_type": "code",
      "metadata": {
        "id": "rUfoak6Hr6Ed"
      },
      "source": [
        "valid_topics = []"
      ],
      "execution_count": 15,
      "outputs": []
    },
    {
      "cell_type": "code",
      "metadata": {
        "id": "x55W6Xf4r7MK"
      },
      "source": [
        "for _ in range(valid_size):\n",
        "    # Use randint for more speed (on big lists it is faster)\n",
        "    idx = np.random.randint(0, len(unique_topics))\n",
        "    valid_topics.append(unique_topics[idx])"
      ],
      "execution_count": 16,
      "outputs": []
    },
    {
      "cell_type": "code",
      "metadata": {
        "id": "861f4lMGr8ez"
      },
      "source": [
        "import nltk\n",
        "\n",
        "\n",
        "train = []\n",
        "valid = []\n",
        "for topic, essay in zip(topics, all_essays):\n",
        "    is_train = True\n",
        "    for valid_topic in valid_topics:\n",
        "        if (\n",
        "            nltk.edit_distance(valid_topic, topic[:len(valid_topic)]) < 20 or\n",
        "            nltk.edit_distance(valid_topic[:len(topic)], topic) < 20 or\n",
        "            nltk.edit_distance(valid_topic[len(topic):], topic) < 20 or\n",
        "            nltk.edit_distance(valid_topic, topic[len(valid_topic):]) < 20\n",
        "            ):\n",
        "            is_train = False\n",
        "    if is_train:\n",
        "        train.append(essay)\n",
        "    else:\n",
        "        valid.append(essay)"
      ],
      "execution_count": 17,
      "outputs": []
    },
    {
      "cell_type": "code",
      "metadata": {
        "id": "2T0gN6gqr9pa",
        "outputId": "57e386ee-3180-4e7a-ec7b-df98e8b67125",
        "colab": {
          "base_uri": "https://localhost:8080/"
        }
      },
      "source": [
        "len(train), len(valid)"
      ],
      "execution_count": 18,
      "outputs": [
        {
          "output_type": "execute_result",
          "data": {
            "text/plain": [
              "(313, 87)"
            ]
          },
          "metadata": {
            "tags": []
          },
          "execution_count": 18
        }
      ]
    },
    {
      "cell_type": "code",
      "metadata": {
        "id": "ZPB8rrVPr-kh"
      },
      "source": [
        "with open(\"train.txt\", \"w\") as file:\n",
        "    file.write(\"\\n\".join(train))"
      ],
      "execution_count": 19,
      "outputs": []
    },
    {
      "cell_type": "code",
      "metadata": {
        "id": "HP5_nk_0sAB0"
      },
      "source": [
        "with open(\"valid.txt\", \"w\") as file:\n",
        "    file.write(\"\\n\".join(valid))"
      ],
      "execution_count": 20,
      "outputs": []
    },
    {
      "cell_type": "markdown",
      "metadata": {
        "id": "NitGcEKPsDQE"
      },
      "source": [
        "## Run finetuning\n",
        "The following code download our model and tokenizer from transformers and finetune model essays.\n",
        "\n",
        "This took aroung ten minutes and obtain perplexity = 13-16"
      ]
    },
    {
      "cell_type": "code",
      "metadata": {
        "id": "5vL07XFvsBBU"
      },
      "source": [
        "!python pretrain_transformers.py \\\n",
        "    --output_dir=essays_model \\\n",
        "    --model_type=gpt2 \\\n",
        "    --model_name_or_path=sberbank-ai/rugpt3small_based_on_gpt2 \\\n",
        "    --do_train \\\n",
        "    --train_data_file=train.txt \\\n",
        "    --do_eval \\\n",
        "    --fp16 \\\n",
        "    --eval_data_file=valid.txt \\\n",
        "    --per_gpu_train_batch_size 1 \\\n",
        "    --gradient_accumulation_steps 1 \\\n",
        "    --num_train_epochs 5 \\\n",
        "    --block_size 2048 \\\n",
        "    --overwrite_output_dir"
      ],
      "execution_count": null,
      "outputs": []
    },
    {
      "cell_type": "markdown",
      "metadata": {
        "id": "w2N6ylGPt1F5"
      },
      "source": [
        "## Check our model"
      ]
    },
    {
      "cell_type": "code",
      "metadata": {
        "id": "3XM10Ca8uEVN"
      },
      "source": [
        "## Select topic\n",
        "for idx in range(len(valid)):\n",
        "  if \"образует его общество\" in valid[idx]:\n",
        "    break"
      ],
      "execution_count": null,
      "outputs": []
    },
    {
      "cell_type": "code",
      "metadata": {
        "id": "cKQ_Isld3xZ3",
        "outputId": "f13e85bf-aaa8-4612-fa52-3e2a52f5402a",
        "colab": {
          "base_uri": "https://localhost:8080/",
          "height": 137
        }
      },
      "source": [
        "valid[idx]"
      ],
      "execution_count": null,
      "outputs": [
        {
          "output_type": "execute_result",
          "data": {
            "application/vnd.google.colaboratory.intrinsic+json": {
              "type": "string"
            },
            "text/plain": [
              "'<s>Тема: «Создает человека природа, но развивает и образует его общество». (В.Т. Белинский)\\nСочинение: Эссе №1Человек это высшая ступень развития живых организмов на земле, субъект общественно-исторической деятельности и культуры, но важнейшей его характеристикой является биосоциальная сущность.Белинский В.Г. в своем выражении очень точно и ёмко охарактеризован двойственную природу человека. Во-первых, человек есть порождение природы, является цепью эволюции, таким же организмом, как и всё, что нас окружает. По биологическим признакам человек ничем не отличается от животного. Во-вторых, он есть порождение общества. Этот момент более сложен. Ясно только то, что благодаря общественному развитию человек стал человеком.Человек без общества ничто, недаром в древности изгнание из общества являлось самим страшным наказанием. Очень много в современном мире примеров синдрома«маугли», когда воспитание ребенок получил от животного и поэтому ведет себя как он, а не как человек, что говорит лишь о том, что социальное в человеке не заложено генетически, а дается обществом. Так же подтверждает это и роман Даниэля Дефо«Робинзон Крузо». Без знаний, которые накопило общество, Робинзону Крузо было бытяжело выжить. А может и невозможно. Он старался повторить, познать всё то, что было создано в обществе.Подводя итог, хотелось бы отметить, что человек и общество понятия неразделимые. Именно благодаря обществу человек как существо .биологическое смог стать человеком, таким, какой он есть. Тело человеку дает природа, а разум и душу - общество.Эссе №2Каждый человек в широком смысле это «дитя природы». Согласно биологическим, закономерностям, человек обособился и развился из животного мира. Поэтому животные инстинкты вполне объяснимы в человеческой сущности, они имеют естественное происхождение. Однако человек ничем бы не отличался от животного, если бы эти инстинкты, дарованные природой, составляли бы его глубинную первооснову и определяли все его существование.Определяющее воздействие на складывание человека оказывает общество. Под обществом в данном случае мы понимаем обособившуюся от природы (совокупности естественных условий существования человека) часть мира. Утвердившиеся моральные нормы и правила поведения, культурные достижения, политико-правовые особенности, социально-экономические отношения - всё это разнообразные составляющие общества в целом.Только в обществе человек приобретает личностные характеристики (то есть такие социально значимые черты, которые характеризуют индивида как члена того или иного общества). Таким образом, на мой взгляд, В.Г. Белинский глубоко был прав, отмечая, что биологически человека создаёт природа; но сущностные характеристики человеческая личность приобретает и развивает в обществе, во взаимодействии с другими личностями, вступая с ними в разнообразные отношения.С другой стороны, представляется, что в данном высказывании В.Г. Белинского два этих понятия - «общество» и «природа» - выступают как диаметральные противоположности. Мне не представляется это правильным. Человек, общество и природа очень тесно взаимосвязаны, влияют друг на друга. Известно, что, с одной стороны, природная среда, географические и климатические особенности оказывают значительное воздействие на общественное развитие, ускоряя или замедляя его темп и, в конечном счете, определяют ментальность народа (как совокупность общественных ценностей, установок, готовности действовать или мыслить определенным образом). С другой стороны, и общество влияет на естественную среду обитания человека. В последнее время чаще всего отмечают негативное воздействие человеческого общества на экологическую обстановку.Таким образом, завершая наш небольшой анализ, отметим, что природа и общество являются двумя основными составляющими, тесно взаимосвязанными, взаимодействующими, которые определяют особенности складывания и формирования человека как личности. Причем второй компонент (общество) в настоящее время оказывает непосредственное и наиболее сильное влияние; а воздействие природы в современном мире во многом опосредовано.</s>'"
            ]
          },
          "metadata": {
            "tags": []
          },
          "execution_count": 141
        }
      ]
    },
    {
      "cell_type": "code",
      "metadata": {
        "id": "JRlAAsIbsHdf",
        "outputId": "04ce6f1f-641f-4704-c477-103d4e098d54",
        "colab": {
          "base_uri": "https://localhost:8080/",
          "height": 1000
        }
      },
      "source": [
        "!python generate_transformers.py \\\n",
        "    --model_type=gpt2 \\\n",
        "    --model_name_or_path=essays_model \\\n",
        "    --k=5 \\\n",
        "    --p=0.95 \\\n",
        "    --length=500"
      ],
      "execution_count": null,
      "outputs": [
        {
          "output_type": "stream",
          "text": [
            "2020-10-28 15:45:33.604619: I tensorflow/stream_executor/platform/default/dso_loader.cc:48] Successfully opened dynamic library libcudart.so.10.1\n",
            "10/28/2020 15:45:35 - INFO - transformers.tokenization_utils -   Model name 'essays_model' not found in model shortcut name list (gpt2, gpt2-medium, gpt2-large, gpt2-xl, distilgpt2). Assuming 'essays_model' is a path, a model identifier, or url to a directory containing tokenizer files.\n",
            "10/28/2020 15:45:35 - INFO - transformers.tokenization_utils -   Didn't find file essays_model/added_tokens.json. We won't load it.\n",
            "10/28/2020 15:45:35 - INFO - transformers.tokenization_utils -   loading file essays_model/vocab.json\n",
            "10/28/2020 15:45:35 - INFO - transformers.tokenization_utils -   loading file essays_model/merges.txt\n",
            "10/28/2020 15:45:35 - INFO - transformers.tokenization_utils -   loading file None\n",
            "10/28/2020 15:45:35 - INFO - transformers.tokenization_utils -   loading file essays_model/special_tokens_map.json\n",
            "10/28/2020 15:45:35 - INFO - transformers.tokenization_utils -   loading file essays_model/tokenizer_config.json\n",
            "10/28/2020 15:45:35 - INFO - transformers.configuration_utils -   loading configuration file essays_model/config.json\n",
            "10/28/2020 15:45:35 - INFO - transformers.configuration_utils -   Model config GPT2Config {\n",
            "  \"_num_labels\": 2,\n",
            "  \"activation_function\": \"gelu_new\",\n",
            "  \"architectures\": [\n",
            "    \"GPT2LMHeadModel\"\n",
            "  ],\n",
            "  \"attn_pdrop\": 0.1,\n",
            "  \"bad_words_ids\": null,\n",
            "  \"bos_token_id\": 50256,\n",
            "  \"decoder_start_token_id\": null,\n",
            "  \"do_sample\": false,\n",
            "  \"early_stopping\": false,\n",
            "  \"embd_pdrop\": 0.1,\n",
            "  \"eos_token_id\": 50256,\n",
            "  \"finetuning_task\": null,\n",
            "  \"gradient_checkpointing\": false,\n",
            "  \"id2label\": {\n",
            "    \"0\": \"LABEL_0\",\n",
            "    \"1\": \"LABEL_1\"\n",
            "  },\n",
            "  \"initializer_range\": 0.02,\n",
            "  \"is_decoder\": false,\n",
            "  \"is_encoder_decoder\": false,\n",
            "  \"label2id\": {\n",
            "    \"LABEL_0\": 0,\n",
            "    \"LABEL_1\": 1\n",
            "  },\n",
            "  \"layer_norm_epsilon\": 1e-05,\n",
            "  \"length_penalty\": 1.0,\n",
            "  \"max_length\": 20,\n",
            "  \"min_length\": 0,\n",
            "  \"model_type\": \"gpt2\",\n",
            "  \"n_ctx\": 2048,\n",
            "  \"n_embd\": 768,\n",
            "  \"n_head\": 12,\n",
            "  \"n_inner\": null,\n",
            "  \"n_layer\": 12,\n",
            "  \"n_positions\": 2048,\n",
            "  \"no_repeat_ngram_size\": 0,\n",
            "  \"num_beams\": 1,\n",
            "  \"num_return_sequences\": 1,\n",
            "  \"output_attentions\": false,\n",
            "  \"output_hidden_states\": false,\n",
            "  \"output_past\": true,\n",
            "  \"pad_token_id\": null,\n",
            "  \"prefix\": null,\n",
            "  \"pruned_heads\": {},\n",
            "  \"repetition_penalty\": 1.0,\n",
            "  \"resid_pdrop\": 0.1,\n",
            "  \"summary_activation\": null,\n",
            "  \"summary_first_dropout\": 0.1,\n",
            "  \"summary_proj_to_labels\": true,\n",
            "  \"summary_type\": \"cls_index\",\n",
            "  \"summary_use_proj\": true,\n",
            "  \"task_specific_params\": null,\n",
            "  \"temperature\": 1.0,\n",
            "  \"top_k\": 50,\n",
            "  \"top_p\": 1.0,\n",
            "  \"torchscript\": false,\n",
            "  \"use_bfloat16\": false,\n",
            "  \"vocab_size\": 50257\n",
            "}\n",
            "\n",
            "10/28/2020 15:45:35 - INFO - transformers.modeling_utils -   loading weights file essays_model/pytorch_model.bin\n",
            "10/28/2020 15:45:46 - INFO - __main__ -   Namespace(device=device(type='cuda'), k=5, length=500, model_name_or_path='essays_model', model_type='gpt2', n_gpu=1, no_cuda=False, num_return_sequences=1, p=0.95, padding_text='', prompt='', repetition_penalty=1.0, seed=42, stop_token='</s>', temperature=1.0, xlm_language='')\n",
            "Context >>> <s>Тема: «Создает человека природа, но развивает и образует его общество». (В.Т. Белинский)\\nСочинение:\n",
            "10/28/2020 15:45:51 - WARNING - transformers.modeling_utils -   Setting `pad_token_id` to 50256 (first `eos_token_id`) to generate sequence\n",
            "ruGPT:\n",
            "<s>Тема: «Создает человека природа, но развивает и образует его общество». (В.Т. Белинский)\\nСочинение: В основе существования человека лежит биосоциальная сущность. Человек, будучи существом разумным, должен был бы приспособиться к окружающей его среде, жить в обществе, удовлетворять свои физиологические потребности, быть активным членом общества. Но природа не приспособлена к человеку. Она неорганизованная система, она не может существовать без общества. Поэтому я считаю, что В.Т. Белинский хотел указать на два фактора, сыгравших определяющую роль в формировании человека: на биологическое родство и на социальное родство. Человек - это высшая форма организации живых организмов. Он является органической совокупностью, состоящей из высших органических и неорганических элементов, а также нервной ткани, клеточных мембран, а также органов и систем, которые в свою очередь состоят из простых органических элементов. Организмы существуют независимо друг от друга. Одни - это биосоциальные, другие - социальные. Одни - это сложные организмы, которые состоят из простых органических элементов. Одни организмы существуют обособленно, другие - сообщат друг другу свои преимущества. В естественных условиях человеку необходимо общение, т.е. взаимодействие живых организмов друг с другом. Организмы могут существовать в условиях изоляции, изоляции от других организмов, поэтому я считаю, что В.Т. Белинский хотел указать, что общение является одним из способов сохранения жизни. В естественных условиях человек может жить только в обществе, в котором существует разделение властей и которое защищает его права и интересы. Общество - это система общественных отношений, основанная на взаимной помощи, взаимном признании, взаимной ответственности, взаимодействии между людьми. В естественных условиях человек ничем не отличается от животного, но он обладает рядом важных социальных свойств. Животные обладают развитым интеллектом, способностью обучаться, общаться с другими животными. Животные не подчиняются законам природы, они лишь выполняют функцию воспроизводства потомства, поэтому я считаю, что В.Т. Белинский хотел указать на два этих фактора, сыгравших определяющую роль в формировании человека: на биологическое родство и на социальное родство. Человек, по моему мнению, является высшей формой организации живых организмов. Он является органической совокупностью, состоящей из высших органических и неорганических элементов, и только благодаря общению с другими животными человек может существовать в обществе.\n",
            "Context >>> ^C\n"
          ],
          "name": "stdout"
        }
      ]
    },
    {
      "cell_type": "code",
      "metadata": {
        "id": "-kpMtmoxvQ3a"
      },
      "source": [
        ""
      ],
      "execution_count": null,
      "outputs": []
    }
  ]
}